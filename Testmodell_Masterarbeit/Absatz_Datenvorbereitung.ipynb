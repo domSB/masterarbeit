{
 "cells": [
  {
   "cell_type": "code",
   "execution_count": 1,
   "metadata": {},
   "outputs": [],
   "source": [
    "import pandas as pd\n",
    "import numpy as np\n",
    "import os"
   ]
  },
  {
   "cell_type": "code",
   "execution_count": 2,
   "metadata": {},
   "outputs": [],
   "source": [
    "DATA_DIR = \"//Natalie/Dokumente/TempMasterarbeit/Raw Data\"\n",
    "NAME_WA = \"0 Warenausgang.Time.csv\"\n",
    "NAME_WGR = \"0 Warengruppenstamm.csv\"\n",
    "NAME_ART = \"0 ArtikelstammV4.csv\""
   ]
  },
  {
   "cell_type": "markdown",
   "metadata": {},
   "source": [
    "# Grundidee\n",
    "Alle Daten in richtiger Reihenfolge vorhalten. \n",
    "Daten als Numpy Array in einen tf.DataSet umwandeln. \n",
    "DataSet komplett in den Arbeitsspeicher laden und Shufflen mit ganzem DataSet als Buffer und dann batchen. "
   ]
  },
  {
   "cell_type": "code",
   "execution_count": 4,
   "metadata": {},
   "outputs": [],
   "source": [
    "df = pd.read_csv(os.path.join(DATA_DIR, NAME_WA))\n",
    "backup = df # backup sort bei Fehlberechnungen dafür, dass der Datensatz nicht neu geladen werden muss."
   ]
  },
  {
   "cell_type": "markdown",
   "metadata": {},
   "source": [
    "Für Debugging wird der Datensatz etwas verkleinert."
   ]
  },
  {
   "cell_type": "code",
   "execution_count": 5,
   "metadata": {},
   "outputs": [],
   "source": [
    "artikel_mask = [421607]\n",
    "df = df[df.ARTIKEL.isin(artikel_mask)]"
   ]
  },
  {
   "cell_type": "markdown",
   "metadata": {},
   "source": [
    "### Daten formatieren & bereinigen"
   ]
  },
  {
   "cell_type": "code",
   "execution_count": 6,
   "metadata": {},
   "outputs": [
    {
     "name": "stderr",
     "output_type": "stream",
     "text": [
      "C:\\Users\\dneu-\\.conda\\envs\\rl\\lib\\site-packages\\ipykernel_launcher.py:1: SettingWithCopyWarning: \n",
      "A value is trying to be set on a copy of a slice from a DataFrame.\n",
      "Try using .loc[row_indexer,col_indexer] = value instead\n",
      "\n",
      "See the caveats in the documentation: https://pandas.pydata.org/pandas-docs/stable/user_guide/indexing.html#returning-a-view-versus-a-copy\n",
      "  \"\"\"Entry point for launching an IPython kernel.\n"
     ]
    }
   ],
   "source": [
    "df[\"DATUM\"] = pd.to_datetime(df.DATUM, format=\"%d.%m.%y\")\n",
    "df = df[df.BELEGTYP.isin([\"UMSATZ_SCANNING\", \"UMSATZ_AKTION\", \"ABSCHRIFT\"])]"
   ]
  },
  {
   "cell_type": "code",
   "execution_count": 7,
   "metadata": {},
   "outputs": [
    {
     "name": "stdout",
     "output_type": "stream",
     "text": [
      "(2, 5) 1 2\n"
     ]
    }
   ],
   "source": [
    "print(df.shape, len(df.ARTIKEL.unique()), len(df.DATUM.unique()))"
   ]
  },
  {
   "cell_type": "markdown",
   "metadata": {},
   "source": [
    "### Neue Index setzen"
   ]
  },
  {
   "cell_type": "code",
   "execution_count": 8,
   "metadata": {},
   "outputs": [],
   "source": [
    "verkaufstage = pd.tseries.offsets.CustomBusinessDay(n=1, weekmask='Mon Tue Wed Thu Fri Sat')\n",
    "dates_index = pd.date_range('01.01.2016', '30.06.2019', freq=verkaufstage)"
   ]
  },
  {
   "cell_type": "code",
   "execution_count": 9,
   "metadata": {},
   "outputs": [],
   "source": [
    "products = df.ARTIKEL.unique()"
   ]
  },
  {
   "cell_type": "code",
   "execution_count": 10,
   "metadata": {},
   "outputs": [],
   "source": [
    "multi_index = pd.MultiIndex.from_product([dates_index, products], names=[\"DATUM\", \"ARTIKEL\"])"
   ]
  },
  {
   "cell_type": "code",
   "execution_count": 11,
   "metadata": {},
   "outputs": [],
   "source": [
    "df.set_index([\"DATUM\", \"ARTIKEL\"], inplace=True)"
   ]
  },
  {
   "cell_type": "code",
   "execution_count": 12,
   "metadata": {},
   "outputs": [],
   "source": [
    "df = pd.pivot_table(df, values='MENGE', index=['DATUM', 'ARTIKEL'],\n",
    "\n",
    "                    columns=['BELEGTYP'], aggfunc=np.sum)"
   ]
  },
  {
   "cell_type": "code",
   "execution_count": 13,
   "metadata": {},
   "outputs": [],
   "source": [
    "df = df.reindex(multi_index, fill_value=0)"
   ]
  },
  {
   "cell_type": "code",
   "execution_count": 14,
   "metadata": {},
   "outputs": [],
   "source": [
    "df = df.sort_values([\"ARTIKEL\", \"DATUM\"])"
   ]
  },
  {
   "cell_type": "markdown",
   "metadata": {},
   "source": [
    "### unabhängige Variablen erzeugen"
   ]
  },
  {
   "cell_type": "code",
   "execution_count": 15,
   "metadata": {},
   "outputs": [],
   "source": [
    "df[\"PREIS\"] = 1.4\n",
    "df[\"MENGE\"] = df[\"UMSATZ_SCANNING\"]\n",
    "df[\"X\"] = list(zip(df[\"MENGE\"], df[\"PREIS\"]))\n",
    "df[\"X\"] = df[\"X\"].apply(list)"
   ]
  },
  {
   "cell_type": "code",
   "execution_count": 50,
   "metadata": {},
   "outputs": [],
   "source": [
    "# Unelegante Lösung. Besser wäre df.UMSATZ_SCANNING.rolling(lag).apply(list), aber das unterstützt pandas aktuell noch nicht, \n",
    "# da die __iter__ Methode des Rolling-Window nicht implementiert ist. \n",
    "timeseries_length = 6\n",
    "df['VORWOCHE'] = list(zip(*[df.X.shift(lag +1 ).fillna(method='backfill') for lag in range(timeseries_length)]))\n",
    "df['VORVORWOCHE'] = list(zip(*[df.X.shift(lag + 6 + 1).fillna(method='backfill') for lag in range(timeseries_length)]))"
   ]
  },
  {
   "cell_type": "code",
   "execution_count": 51,
   "metadata": {},
   "outputs": [],
   "source": [
    "df['VORWOCHE'] = df['VORWOCHE'].apply(list)\n",
    "df['VORVORWOCHE'] = df['VORVORWOCHE'].apply(list)"
   ]
  },
  {
   "cell_type": "code",
   "execution_count": 34,
   "metadata": {},
   "outputs": [],
   "source": [
    "df.reset_index(inplace=True)"
   ]
  },
  {
   "cell_type": "code",
   "execution_count": 35,
   "metadata": {},
   "outputs": [],
   "source": [
    "df['y_wochenanfang'] = df.MENGE.rolling(3).sum().shift(-3)"
   ]
  },
  {
   "cell_type": "code",
   "execution_count": 36,
   "metadata": {},
   "outputs": [],
   "source": [
    "df['Y_wochenende'] = df.MENGE.rolling(2).sum().shift(-5)"
   ]
  },
  {
   "cell_type": "code",
   "execution_count": 37,
   "metadata": {},
   "outputs": [],
   "source": [
    "df['Y_samstag'] = df.MENGE.shift(-6)"
   ]
  },
  {
   "cell_type": "code",
   "execution_count": 38,
   "metadata": {},
   "outputs": [],
   "source": [
    "df['Wochentag'] = df['DATUM'].dt.day_name()"
   ]
  },
  {
   "cell_type": "code",
   "execution_count": 53,
   "metadata": {},
   "outputs": [
    {
     "data": {
      "text/html": [
       "<div>\n",
       "<style scoped>\n",
       "    .dataframe tbody tr th:only-of-type {\n",
       "        vertical-align: middle;\n",
       "    }\n",
       "\n",
       "    .dataframe tbody tr th {\n",
       "        vertical-align: top;\n",
       "    }\n",
       "\n",
       "    .dataframe thead th {\n",
       "        text-align: right;\n",
       "    }\n",
       "</style>\n",
       "<table border=\"1\" class=\"dataframe\">\n",
       "  <thead>\n",
       "    <tr style=\"text-align: right;\">\n",
       "      <th>BELEGTYP</th>\n",
       "      <th>index</th>\n",
       "      <th>DATUM</th>\n",
       "      <th>ARTIKEL</th>\n",
       "      <th>UMSATZ_SCANNING</th>\n",
       "      <th>PREIS</th>\n",
       "      <th>MENGE</th>\n",
       "      <th>X</th>\n",
       "      <th>VORWOCHE</th>\n",
       "      <th>VORVORWOCHE</th>\n",
       "      <th>y_wochenanfang</th>\n",
       "      <th>Y_wochenende</th>\n",
       "      <th>Y_samstag</th>\n",
       "      <th>Wochentag</th>\n",
       "    </tr>\n",
       "  </thead>\n",
       "  <tbody>\n",
       "    <tr>\n",
       "      <th>0</th>\n",
       "      <td>0</td>\n",
       "      <td>2016-01-01</td>\n",
       "      <td>421607</td>\n",
       "      <td>0.0</td>\n",
       "      <td>1.4</td>\n",
       "      <td>0.0</td>\n",
       "      <td>[0.0, 1.4]</td>\n",
       "      <td>[[0.0, 1.4], [0.0, 1.4], [0.0, 1.4], [0.0, 1.4...</td>\n",
       "      <td>[[0.0, 1.4], [0.0, 1.4], [0.0, 1.4], [0.0, 1.4...</td>\n",
       "      <td>0.0</td>\n",
       "      <td>0.0</td>\n",
       "      <td>0.0</td>\n",
       "      <td>Friday</td>\n",
       "    </tr>\n",
       "    <tr>\n",
       "      <th>1</th>\n",
       "      <td>1</td>\n",
       "      <td>2016-01-02</td>\n",
       "      <td>421607</td>\n",
       "      <td>0.0</td>\n",
       "      <td>1.4</td>\n",
       "      <td>0.0</td>\n",
       "      <td>[0.0, 1.4]</td>\n",
       "      <td>[[0.0, 1.4], [0.0, 1.4], [0.0, 1.4], [0.0, 1.4...</td>\n",
       "      <td>[[0.0, 1.4], [0.0, 1.4], [0.0, 1.4], [0.0, 1.4...</td>\n",
       "      <td>0.0</td>\n",
       "      <td>0.0</td>\n",
       "      <td>0.0</td>\n",
       "      <td>Saturday</td>\n",
       "    </tr>\n",
       "    <tr>\n",
       "      <th>2</th>\n",
       "      <td>2</td>\n",
       "      <td>2016-01-04</td>\n",
       "      <td>421607</td>\n",
       "      <td>0.0</td>\n",
       "      <td>1.4</td>\n",
       "      <td>0.0</td>\n",
       "      <td>[0.0, 1.4]</td>\n",
       "      <td>[[0.0, 1.4], [0.0, 1.4], [0.0, 1.4], [0.0, 1.4...</td>\n",
       "      <td>[[0.0, 1.4], [0.0, 1.4], [0.0, 1.4], [0.0, 1.4...</td>\n",
       "      <td>0.0</td>\n",
       "      <td>0.0</td>\n",
       "      <td>0.0</td>\n",
       "      <td>Monday</td>\n",
       "    </tr>\n",
       "    <tr>\n",
       "      <th>3</th>\n",
       "      <td>3</td>\n",
       "      <td>2016-01-05</td>\n",
       "      <td>421607</td>\n",
       "      <td>0.0</td>\n",
       "      <td>1.4</td>\n",
       "      <td>0.0</td>\n",
       "      <td>[0.0, 1.4]</td>\n",
       "      <td>[[0.0, 1.4], [0.0, 1.4], [0.0, 1.4], [0.0, 1.4...</td>\n",
       "      <td>[[0.0, 1.4], [0.0, 1.4], [0.0, 1.4], [0.0, 1.4...</td>\n",
       "      <td>0.0</td>\n",
       "      <td>0.0</td>\n",
       "      <td>0.0</td>\n",
       "      <td>Tuesday</td>\n",
       "    </tr>\n",
       "    <tr>\n",
       "      <th>4</th>\n",
       "      <td>4</td>\n",
       "      <td>2016-01-06</td>\n",
       "      <td>421607</td>\n",
       "      <td>0.0</td>\n",
       "      <td>1.4</td>\n",
       "      <td>0.0</td>\n",
       "      <td>[0.0, 1.4]</td>\n",
       "      <td>[[0.0, 1.4], [0.0, 1.4], [0.0, 1.4], [0.0, 1.4...</td>\n",
       "      <td>[[0.0, 1.4], [0.0, 1.4], [0.0, 1.4], [0.0, 1.4...</td>\n",
       "      <td>0.0</td>\n",
       "      <td>0.0</td>\n",
       "      <td>0.0</td>\n",
       "      <td>Wednesday</td>\n",
       "    </tr>\n",
       "    <tr>\n",
       "      <th>5</th>\n",
       "      <td>5</td>\n",
       "      <td>2016-01-07</td>\n",
       "      <td>421607</td>\n",
       "      <td>0.0</td>\n",
       "      <td>1.4</td>\n",
       "      <td>0.0</td>\n",
       "      <td>[0.0, 1.4]</td>\n",
       "      <td>[[0.0, 1.4], [0.0, 1.4], [0.0, 1.4], [0.0, 1.4...</td>\n",
       "      <td>[[0.0, 1.4], [0.0, 1.4], [0.0, 1.4], [0.0, 1.4...</td>\n",
       "      <td>0.0</td>\n",
       "      <td>0.0</td>\n",
       "      <td>0.0</td>\n",
       "      <td>Thursday</td>\n",
       "    </tr>\n",
       "    <tr>\n",
       "      <th>6</th>\n",
       "      <td>6</td>\n",
       "      <td>2016-01-08</td>\n",
       "      <td>421607</td>\n",
       "      <td>0.0</td>\n",
       "      <td>1.4</td>\n",
       "      <td>0.0</td>\n",
       "      <td>[0.0, 1.4]</td>\n",
       "      <td>[[0.0, 1.4], [0.0, 1.4], [0.0, 1.4], [0.0, 1.4...</td>\n",
       "      <td>[[0.0, 1.4], [0.0, 1.4], [0.0, 1.4], [0.0, 1.4...</td>\n",
       "      <td>0.0</td>\n",
       "      <td>0.0</td>\n",
       "      <td>0.0</td>\n",
       "      <td>Friday</td>\n",
       "    </tr>\n",
       "    <tr>\n",
       "      <th>7</th>\n",
       "      <td>7</td>\n",
       "      <td>2016-01-09</td>\n",
       "      <td>421607</td>\n",
       "      <td>0.0</td>\n",
       "      <td>1.4</td>\n",
       "      <td>0.0</td>\n",
       "      <td>[0.0, 1.4]</td>\n",
       "      <td>[[0.0, 1.4], [0.0, 1.4], [0.0, 1.4], [0.0, 1.4...</td>\n",
       "      <td>[[0.0, 1.4], [0.0, 1.4], [0.0, 1.4], [0.0, 1.4...</td>\n",
       "      <td>0.0</td>\n",
       "      <td>0.0</td>\n",
       "      <td>0.0</td>\n",
       "      <td>Saturday</td>\n",
       "    </tr>\n",
       "    <tr>\n",
       "      <th>8</th>\n",
       "      <td>8</td>\n",
       "      <td>2016-01-11</td>\n",
       "      <td>421607</td>\n",
       "      <td>0.0</td>\n",
       "      <td>1.4</td>\n",
       "      <td>0.0</td>\n",
       "      <td>[0.0, 1.4]</td>\n",
       "      <td>[[0.0, 1.4], [0.0, 1.4], [0.0, 1.4], [0.0, 1.4...</td>\n",
       "      <td>[[0.0, 1.4], [0.0, 1.4], [0.0, 1.4], [0.0, 1.4...</td>\n",
       "      <td>0.0</td>\n",
       "      <td>0.0</td>\n",
       "      <td>0.0</td>\n",
       "      <td>Monday</td>\n",
       "    </tr>\n",
       "    <tr>\n",
       "      <th>9</th>\n",
       "      <td>9</td>\n",
       "      <td>2016-01-12</td>\n",
       "      <td>421607</td>\n",
       "      <td>0.0</td>\n",
       "      <td>1.4</td>\n",
       "      <td>0.0</td>\n",
       "      <td>[0.0, 1.4]</td>\n",
       "      <td>[[0.0, 1.4], [0.0, 1.4], [0.0, 1.4], [0.0, 1.4...</td>\n",
       "      <td>[[0.0, 1.4], [0.0, 1.4], [0.0, 1.4], [0.0, 1.4...</td>\n",
       "      <td>0.0</td>\n",
       "      <td>0.0</td>\n",
       "      <td>0.0</td>\n",
       "      <td>Tuesday</td>\n",
       "    </tr>\n",
       "    <tr>\n",
       "      <th>10</th>\n",
       "      <td>10</td>\n",
       "      <td>2016-01-13</td>\n",
       "      <td>421607</td>\n",
       "      <td>0.0</td>\n",
       "      <td>1.4</td>\n",
       "      <td>0.0</td>\n",
       "      <td>[0.0, 1.4]</td>\n",
       "      <td>[[0.0, 1.4], [0.0, 1.4], [0.0, 1.4], [0.0, 1.4...</td>\n",
       "      <td>[[0.0, 1.4], [0.0, 1.4], [0.0, 1.4], [0.0, 1.4...</td>\n",
       "      <td>0.0</td>\n",
       "      <td>0.0</td>\n",
       "      <td>0.0</td>\n",
       "      <td>Wednesday</td>\n",
       "    </tr>\n",
       "    <tr>\n",
       "      <th>11</th>\n",
       "      <td>11</td>\n",
       "      <td>2016-01-14</td>\n",
       "      <td>421607</td>\n",
       "      <td>0.0</td>\n",
       "      <td>1.4</td>\n",
       "      <td>0.0</td>\n",
       "      <td>[0.0, 1.4]</td>\n",
       "      <td>[[0.0, 1.4], [0.0, 1.4], [0.0, 1.4], [0.0, 1.4...</td>\n",
       "      <td>[[0.0, 1.4], [0.0, 1.4], [0.0, 1.4], [0.0, 1.4...</td>\n",
       "      <td>0.0</td>\n",
       "      <td>0.0</td>\n",
       "      <td>0.0</td>\n",
       "      <td>Thursday</td>\n",
       "    </tr>\n",
       "    <tr>\n",
       "      <th>12</th>\n",
       "      <td>12</td>\n",
       "      <td>2016-01-15</td>\n",
       "      <td>421607</td>\n",
       "      <td>0.0</td>\n",
       "      <td>1.4</td>\n",
       "      <td>0.0</td>\n",
       "      <td>[0.0, 1.4]</td>\n",
       "      <td>[[0.0, 1.4], [0.0, 1.4], [0.0, 1.4], [0.0, 1.4...</td>\n",
       "      <td>[[0.0, 1.4], [0.0, 1.4], [0.0, 1.4], [0.0, 1.4...</td>\n",
       "      <td>0.0</td>\n",
       "      <td>0.0</td>\n",
       "      <td>0.0</td>\n",
       "      <td>Friday</td>\n",
       "    </tr>\n",
       "    <tr>\n",
       "      <th>13</th>\n",
       "      <td>13</td>\n",
       "      <td>2016-01-16</td>\n",
       "      <td>421607</td>\n",
       "      <td>0.0</td>\n",
       "      <td>1.4</td>\n",
       "      <td>0.0</td>\n",
       "      <td>[0.0, 1.4]</td>\n",
       "      <td>[[0.0, 1.4], [0.0, 1.4], [0.0, 1.4], [0.0, 1.4...</td>\n",
       "      <td>[[0.0, 1.4], [0.0, 1.4], [0.0, 1.4], [0.0, 1.4...</td>\n",
       "      <td>0.0</td>\n",
       "      <td>0.0</td>\n",
       "      <td>0.0</td>\n",
       "      <td>Saturday</td>\n",
       "    </tr>\n",
       "    <tr>\n",
       "      <th>14</th>\n",
       "      <td>14</td>\n",
       "      <td>2016-01-18</td>\n",
       "      <td>421607</td>\n",
       "      <td>0.0</td>\n",
       "      <td>1.4</td>\n",
       "      <td>0.0</td>\n",
       "      <td>[0.0, 1.4]</td>\n",
       "      <td>[[0.0, 1.4], [0.0, 1.4], [0.0, 1.4], [0.0, 1.4...</td>\n",
       "      <td>[[0.0, 1.4], [0.0, 1.4], [0.0, 1.4], [0.0, 1.4...</td>\n",
       "      <td>0.0</td>\n",
       "      <td>0.0</td>\n",
       "      <td>0.0</td>\n",
       "      <td>Monday</td>\n",
       "    </tr>\n",
       "  </tbody>\n",
       "</table>\n",
       "</div>"
      ],
      "text/plain": [
       "BELEGTYP  index      DATUM  ARTIKEL  UMSATZ_SCANNING  PREIS  MENGE  \\\n",
       "0             0 2016-01-01   421607              0.0    1.4    0.0   \n",
       "1             1 2016-01-02   421607              0.0    1.4    0.0   \n",
       "2             2 2016-01-04   421607              0.0    1.4    0.0   \n",
       "3             3 2016-01-05   421607              0.0    1.4    0.0   \n",
       "4             4 2016-01-06   421607              0.0    1.4    0.0   \n",
       "5             5 2016-01-07   421607              0.0    1.4    0.0   \n",
       "6             6 2016-01-08   421607              0.0    1.4    0.0   \n",
       "7             7 2016-01-09   421607              0.0    1.4    0.0   \n",
       "8             8 2016-01-11   421607              0.0    1.4    0.0   \n",
       "9             9 2016-01-12   421607              0.0    1.4    0.0   \n",
       "10           10 2016-01-13   421607              0.0    1.4    0.0   \n",
       "11           11 2016-01-14   421607              0.0    1.4    0.0   \n",
       "12           12 2016-01-15   421607              0.0    1.4    0.0   \n",
       "13           13 2016-01-16   421607              0.0    1.4    0.0   \n",
       "14           14 2016-01-18   421607              0.0    1.4    0.0   \n",
       "\n",
       "BELEGTYP           X                                           VORWOCHE  \\\n",
       "0         [0.0, 1.4]  [[0.0, 1.4], [0.0, 1.4], [0.0, 1.4], [0.0, 1.4...   \n",
       "1         [0.0, 1.4]  [[0.0, 1.4], [0.0, 1.4], [0.0, 1.4], [0.0, 1.4...   \n",
       "2         [0.0, 1.4]  [[0.0, 1.4], [0.0, 1.4], [0.0, 1.4], [0.0, 1.4...   \n",
       "3         [0.0, 1.4]  [[0.0, 1.4], [0.0, 1.4], [0.0, 1.4], [0.0, 1.4...   \n",
       "4         [0.0, 1.4]  [[0.0, 1.4], [0.0, 1.4], [0.0, 1.4], [0.0, 1.4...   \n",
       "5         [0.0, 1.4]  [[0.0, 1.4], [0.0, 1.4], [0.0, 1.4], [0.0, 1.4...   \n",
       "6         [0.0, 1.4]  [[0.0, 1.4], [0.0, 1.4], [0.0, 1.4], [0.0, 1.4...   \n",
       "7         [0.0, 1.4]  [[0.0, 1.4], [0.0, 1.4], [0.0, 1.4], [0.0, 1.4...   \n",
       "8         [0.0, 1.4]  [[0.0, 1.4], [0.0, 1.4], [0.0, 1.4], [0.0, 1.4...   \n",
       "9         [0.0, 1.4]  [[0.0, 1.4], [0.0, 1.4], [0.0, 1.4], [0.0, 1.4...   \n",
       "10        [0.0, 1.4]  [[0.0, 1.4], [0.0, 1.4], [0.0, 1.4], [0.0, 1.4...   \n",
       "11        [0.0, 1.4]  [[0.0, 1.4], [0.0, 1.4], [0.0, 1.4], [0.0, 1.4...   \n",
       "12        [0.0, 1.4]  [[0.0, 1.4], [0.0, 1.4], [0.0, 1.4], [0.0, 1.4...   \n",
       "13        [0.0, 1.4]  [[0.0, 1.4], [0.0, 1.4], [0.0, 1.4], [0.0, 1.4...   \n",
       "14        [0.0, 1.4]  [[0.0, 1.4], [0.0, 1.4], [0.0, 1.4], [0.0, 1.4...   \n",
       "\n",
       "BELEGTYP                                        VORVORWOCHE  y_wochenanfang  \\\n",
       "0         [[0.0, 1.4], [0.0, 1.4], [0.0, 1.4], [0.0, 1.4...             0.0   \n",
       "1         [[0.0, 1.4], [0.0, 1.4], [0.0, 1.4], [0.0, 1.4...             0.0   \n",
       "2         [[0.0, 1.4], [0.0, 1.4], [0.0, 1.4], [0.0, 1.4...             0.0   \n",
       "3         [[0.0, 1.4], [0.0, 1.4], [0.0, 1.4], [0.0, 1.4...             0.0   \n",
       "4         [[0.0, 1.4], [0.0, 1.4], [0.0, 1.4], [0.0, 1.4...             0.0   \n",
       "5         [[0.0, 1.4], [0.0, 1.4], [0.0, 1.4], [0.0, 1.4...             0.0   \n",
       "6         [[0.0, 1.4], [0.0, 1.4], [0.0, 1.4], [0.0, 1.4...             0.0   \n",
       "7         [[0.0, 1.4], [0.0, 1.4], [0.0, 1.4], [0.0, 1.4...             0.0   \n",
       "8         [[0.0, 1.4], [0.0, 1.4], [0.0, 1.4], [0.0, 1.4...             0.0   \n",
       "9         [[0.0, 1.4], [0.0, 1.4], [0.0, 1.4], [0.0, 1.4...             0.0   \n",
       "10        [[0.0, 1.4], [0.0, 1.4], [0.0, 1.4], [0.0, 1.4...             0.0   \n",
       "11        [[0.0, 1.4], [0.0, 1.4], [0.0, 1.4], [0.0, 1.4...             0.0   \n",
       "12        [[0.0, 1.4], [0.0, 1.4], [0.0, 1.4], [0.0, 1.4...             0.0   \n",
       "13        [[0.0, 1.4], [0.0, 1.4], [0.0, 1.4], [0.0, 1.4...             0.0   \n",
       "14        [[0.0, 1.4], [0.0, 1.4], [0.0, 1.4], [0.0, 1.4...             0.0   \n",
       "\n",
       "BELEGTYP  Y_wochenende  Y_samstag  Wochentag  \n",
       "0                  0.0        0.0     Friday  \n",
       "1                  0.0        0.0   Saturday  \n",
       "2                  0.0        0.0     Monday  \n",
       "3                  0.0        0.0    Tuesday  \n",
       "4                  0.0        0.0  Wednesday  \n",
       "5                  0.0        0.0   Thursday  \n",
       "6                  0.0        0.0     Friday  \n",
       "7                  0.0        0.0   Saturday  \n",
       "8                  0.0        0.0     Monday  \n",
       "9                  0.0        0.0    Tuesday  \n",
       "10                 0.0        0.0  Wednesday  \n",
       "11                 0.0        0.0   Thursday  \n",
       "12                 0.0        0.0     Friday  \n",
       "13                 0.0        0.0   Saturday  \n",
       "14                 0.0        0.0     Monday  "
      ]
     },
     "execution_count": 53,
     "metadata": {},
     "output_type": "execute_result"
    }
   ],
   "source": [
    "df.head(15)"
   ]
  },
  {
   "cell_type": "code",
   "execution_count": 201,
   "metadata": {},
   "outputs": [],
   "source": [
    "# df = backup"
   ]
  },
  {
   "cell_type": "code",
   "execution_count": 73,
   "metadata": {},
   "outputs": [],
   "source": [
    "learning_frame = df[df.Wochentag == 'Saturday']"
   ]
  },
  {
   "cell_type": "code",
   "execution_count": 76,
   "metadata": {},
   "outputs": [
    {
     "name": "stdout",
     "output_type": "stream",
     "text": [
      "(183, 13)\n",
      "(182, 13)\n"
     ]
    },
    {
     "name": "stderr",
     "output_type": "stream",
     "text": [
      "C:\\Users\\dneu-\\.conda\\envs\\rl\\lib\\site-packages\\ipykernel_launcher.py:2: SettingWithCopyWarning: \n",
      "A value is trying to be set on a copy of a slice from a DataFrame\n",
      "\n",
      "See the caveats in the documentation: https://pandas.pydata.org/pandas-docs/stable/user_guide/indexing.html#returning-a-view-versus-a-copy\n",
      "  \n"
     ]
    }
   ],
   "source": [
    "print(learning_frame.shape)\n",
    "learning_frame.dropna(how='any', axis='index', inplace=True)\n",
    "print(learning_frame.shape)\n",
    "\n"
   ]
  },
  {
   "cell_type": "markdown",
   "metadata": {},
   "source": [
    "Direktes konvertieren in einen Numpy Array klappt nicht, aufgrund der geschachtelten Listen (die werden als dtype: Object behandelt). \n",
    "Auflösen in eine Liste von Listen und anschließendes konvertieren in einen nd-array löst das Problem."
   ]
  },
  {
   "cell_type": "code",
   "execution_count": 120,
   "metadata": {},
   "outputs": [],
   "source": [
    "arr_vw = learning_frame.VORWOCHE.to_list()\n",
    "arr_vvw = learning_frame.VORVORWOCHE.to_list()\n",
    "\n",
    "y_wa = learning_frame.y_wochenanfang.to_numpy(copy=True)\n",
    "y_we = learning_frame.Y_wochenende.to_numpy(copy=True)\n",
    "y_sa = learning_frame.Y_samstag.to_numpy(copy=True)"
   ]
  },
  {
   "cell_type": "code",
   "execution_count": 121,
   "metadata": {},
   "outputs": [],
   "source": [
    "arr_vw = np.array(arr_vw)\n",
    "arr_vvw = np.array(arr_vvw)"
   ]
  },
  {
   "cell_type": "code",
   "execution_count": 88,
   "metadata": {},
   "outputs": [
    {
     "data": {
      "text/plain": [
       "(182, 6, 2)"
      ]
     },
     "execution_count": 88,
     "metadata": {},
     "output_type": "execute_result"
    }
   ],
   "source": [
    "arr_vw.shape"
   ]
  },
  {
   "cell_type": "markdown",
   "metadata": {},
   "source": [
    "# Testing if suitable for TF"
   ]
  },
  {
   "cell_type": "code",
   "execution_count": 83,
   "metadata": {},
   "outputs": [],
   "source": [
    "import tensorflow as tf"
   ]
  },
  {
   "cell_type": "code",
   "execution_count": 147,
   "metadata": {},
   "outputs": [],
   "source": [
    "vw_dataset = tf.data.Dataset.from_tensor_slices(arr_vw)\n",
    "vvw_dataset = tf.data.Dataset.from_tensor_slices(arr_vvw)\n",
    "x_dataset = tf.data.Dataset.zip((vw_dataset, vvw_dataset)).cache()\n",
    "\n",
    "wa_dataset = tf.data.Dataset.from_tensor_slices(y_wa)\n",
    "we_dataset = tf.data.Dataset.from_tensor_slices(y_we)\n",
    "sa_dataset = tf.data.Dataset.from_tensor_slices(y_sa)\n",
    "y_dataset = tf.data.Dataset.zip((wa_dataset, we_dataset, sa_dataset)).cache()\n",
    "\n",
    "dataset = tf.data.Dataset.zip((x_dataset, y_dataset)).shuffle(buffer_size=182).batch(32, drop_remainder=True)\n"
   ]
  },
  {
   "cell_type": "code",
   "execution_count": 151,
   "metadata": {},
   "outputs": [],
   "source": [
    "vw_input = tf.keras.layers.Input(shape=(6, 2))\n",
    "vvw_input = tf.keras.layers.Input(shape=(6, 2))\n",
    "\n",
    "shared_LSTM = tf.keras.layers.LSTM(10, return_sequences=True, unroll=True) # unroll for speedup on CPU\n",
    "\n",
    "encoded_ts_vw = shared_LSTM(vw_input)\n",
    "encoded_ts_vvw = shared_LSTM(vvw_input)\n",
    "\n",
    "joined_encoding = tf.keras.layers.concatenate([encoded_ts_vw, encoded_ts_vvw], axis=2)\n",
    "modulator = tf.keras.layers.Dense(15, activation='elu')(joined_encoding)\n",
    "\n",
    "master_lstm = tf.keras.layers.LSTM(10, return_sequences=False, unroll=True)(modulator)\n",
    "\n",
    "head_wa = tf.keras.layers.Dense(10)(master_lstm)\n",
    "head_we = tf.keras.layers.Dense(10)(master_lstm)\n",
    "head_sa = tf.keras.layers.Dense(10)(master_lstm)\n",
    "\n",
    "model = tf.keras.models.Model(inputs=[vw_input, vvw_input], outputs=[head_wa, head_we, head_sa])\n",
    "\n",
    "model.compile(optimizer='Adam', loss='mse', loss_weights=[1., 1., 1.], metrics=[])"
   ]
  },
  {
   "cell_type": "code",
   "execution_count": 152,
   "metadata": {},
   "outputs": [
    {
     "name": "stdout",
     "output_type": "stream",
     "text": [
      "Model: \"model_4\"\n",
      "__________________________________________________________________________________________________\n",
      "Layer (type)                    Output Shape         Param #     Connected to                     \n",
      "==================================================================================================\n",
      "input_13 (InputLayer)           [(None, 6, 2)]       0                                            \n",
      "__________________________________________________________________________________________________\n",
      "input_14 (InputLayer)           [(None, 6, 2)]       0                                            \n",
      "__________________________________________________________________________________________________\n",
      "lstm_12 (LSTM)                  (None, 6, 10)        520         input_13[0][0]                   \n",
      "                                                                 input_14[0][0]                   \n",
      "__________________________________________________________________________________________________\n",
      "concatenate_5 (Concatenate)     (None, 6, 20)        0           lstm_12[0][0]                    \n",
      "                                                                 lstm_12[1][0]                    \n",
      "__________________________________________________________________________________________________\n",
      "dense_20 (Dense)                (None, 6, 15)        315         concatenate_5[0][0]              \n",
      "__________________________________________________________________________________________________\n",
      "lstm_13 (LSTM)                  (None, 10)           1040        dense_20[0][0]                   \n",
      "__________________________________________________________________________________________________\n",
      "dense_21 (Dense)                (None, 10)           110         lstm_13[0][0]                    \n",
      "__________________________________________________________________________________________________\n",
      "dense_22 (Dense)                (None, 10)           110         lstm_13[0][0]                    \n",
      "__________________________________________________________________________________________________\n",
      "dense_23 (Dense)                (None, 10)           110         lstm_13[0][0]                    \n",
      "==================================================================================================\n",
      "Total params: 2,205\n",
      "Trainable params: 2,205\n",
      "Non-trainable params: 0\n",
      "__________________________________________________________________________________________________\n"
     ]
    }
   ],
   "source": [
    "model.summary()"
   ]
  },
  {
   "cell_type": "code",
   "execution_count": 153,
   "metadata": {},
   "outputs": [
    {
     "name": "stdout",
     "output_type": "stream",
     "text": [
      "Train for 5 steps\n",
      "Epoch 1/10\n",
      "5/5 [==============================] - 2s 381ms/step - loss: 0.1103 - dense_21_loss: 0.0093 - dense_22_loss: 0.0684 - dense_23_loss: 0.0326\n",
      "Epoch 2/10\n",
      "5/5 [==============================] - 0s 9ms/step - loss: 0.0913 - dense_21_loss: 0.0036 - dense_22_loss: 0.0608 - dense_23_loss: 0.0270\n",
      "Epoch 3/10\n",
      "5/5 [==============================] - 0s 9ms/step - loss: 0.0027 - dense_21_loss: 0.0012 - dense_22_loss: 0.0010 - dense_23_loss: 5.4327e-04\n",
      "Epoch 4/10\n",
      "5/5 [==============================] - 0s 9ms/step - loss: 0.0821 - dense_21_loss: 4.1719e-04 - dense_22_loss: 0.0566 - dense_23_loss: 0.0251    \n",
      "Epoch 5/10\n",
      "5/5 [==============================] - 0s 10ms/step - loss: 0.0822 - dense_21_loss: 2.9681e-04 - dense_22_loss: 0.0567 - dense_23_loss: 0.0252\n",
      "Epoch 6/10\n",
      "5/5 [==============================] - 0s 8ms/step - loss: 0.0011 - dense_21_loss: 2.8206e-04 - dense_22_loss: 5.1205e-04 - dense_23_loss: 2.9367e-04\n",
      "Epoch 7/10\n",
      "5/5 [==============================] - 0s 9ms/step - loss: 0.0816 - dense_21_loss: 2.0458e-04 - dense_22_loss: 0.0564 - dense_23_loss: 0.0251        \n",
      "Epoch 8/10\n",
      "5/5 [==============================] - 0s 9ms/step - loss: 0.0813 - dense_21_loss: 1.2384e-04 - dense_22_loss: 0.0562 - dense_23_loss: 0.0250        \n",
      "Epoch 9/10\n",
      "5/5 [==============================] - 0s 10ms/step - loss: 0.0811 - dense_21_loss: 9.5620e-05 - dense_22_loss: 0.0561 - dense_23_loss: 0.0249\n",
      "Epoch 10/10\n",
      "5/5 [==============================] - 0s 9ms/step - loss: 2.5680e-04 - dense_21_loss: 6.6932e-05 - dense_22_loss: 1.2691e-04 - dense_23_loss: 6.2960e-05\n"
     ]
    },
    {
     "data": {
      "text/plain": [
       "<tensorflow.python.keras.callbacks.History at 0x1f2edf5c1c8>"
      ]
     },
     "execution_count": 153,
     "metadata": {},
     "output_type": "execute_result"
    }
   ],
   "source": [
    "model.fit(x=dataset.prefetch(tf.data.experimental.AUTOTUNE), epochs=10)"
   ]
  }
 ],
 "metadata": {
  "kernelspec": {
   "display_name": "Python 3",
   "language": "python",
   "name": "python3"
  },
  "language_info": {
   "codemirror_mode": {
    "name": "ipython",
    "version": 3
   },
   "file_extension": ".py",
   "mimetype": "text/x-python",
   "name": "python",
   "nbconvert_exporter": "python",
   "pygments_lexer": "ipython3",
   "version": "3.7.7"
  }
 },
 "nbformat": 4,
 "nbformat_minor": 4
}
